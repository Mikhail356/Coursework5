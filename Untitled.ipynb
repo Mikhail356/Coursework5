{
 "cells": [
  {
   "cell_type": "code",
   "execution_count": 1,
   "metadata": {},
   "outputs": [],
   "source": [
    "import cdx_toolkit\n",
    "import requests\n",
    "from bs4 import BeautifulSoup\n",
    "import json"
   ]
  },
  {
   "cell_type": "code",
   "execution_count": null,
   "metadata": {},
   "outputs": [],
   "source": [
    "%%time\n",
    "\n",
    "cdx = cdx_toolkit.CDXFetcher(source='cc')\n",
    "url = 'https://ria.ru/*'\n",
    "objs = list(cdx.iter(url, from_ts='202105', to='202106', filter=['=status:200', '=languages:rus'],\n",
    "                     limit=50))\n",
    "[o.data for o in objs]"
   ]
  },
  {
   "cell_type": "code",
   "execution_count": null,
   "metadata": {},
   "outputs": [],
   "source": [
    "cdx_indexes = requests.get('https://index.commoncrawl.org/collinfo.json').json()\n",
    "api_url = cdx_indexes[0]['cdx-api']"
   ]
  },
  {
   "cell_type": "code",
   "execution_count": null,
   "metadata": {
    "scrolled": true
   },
   "outputs": [],
   "source": [
    "%%time\n",
    "r = requests.get(api_url,\n",
    "                 params = {\n",
    "                     'url': 'https://meduza.io/*',\n",
    "                     'limit': 10,\n",
    "                     'output': 'json',\n",
    "                     'filter': ['=languages:rus',\n",
    "                               ]\n",
    "                 })\n",
    "records = [json.loads(line) for line in r.text.split('\\n') if line]"
   ]
  },
  {
   "cell_type": "code",
   "execution_count": null,
   "metadata": {},
   "outputs": [],
   "source": [
    "records"
   ]
  },
  {
   "cell_type": "code",
   "execution_count": null,
   "metadata": {},
   "outputs": [],
   "source": []
  },
  {
   "cell_type": "code",
   "execution_count": null,
   "metadata": {},
   "outputs": [],
   "source": []
  }
 ],
 "metadata": {
  "kernelspec": {
   "display_name": "Python 3 (ipykernel)",
   "language": "python",
   "name": "python3"
  },
  "language_info": {
   "codemirror_mode": {
    "name": "ipython",
    "version": 3
   },
   "file_extension": ".py",
   "mimetype": "text/x-python",
   "name": "python",
   "nbconvert_exporter": "python",
   "pygments_lexer": "ipython3",
   "version": "3.8.11"
  }
 },
 "nbformat": 4,
 "nbformat_minor": 2
}
